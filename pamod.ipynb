{
 "cells": [
  {
   "cell_type": "code",
   "execution_count": 1,
   "id": "e2867a60-2309-4d96-a924-33edefcc4184",
   "metadata": {
    "tags": []
   },
   "outputs": [
    {
     "name": "stdout",
     "output_type": "stream",
     "text": [
      "Raw data from API: {'message': 'success', 'iss_position': {'longitude': '7.3460', 'latitude': '-35.9072'}, 'timestamp': 1729863080}\n",
      "Current ISS Location:\n",
      "Latitude: -35.9072\n",
      "Longitude: 7.3460\n"
     ]
    }
   ],
   "source": [
    "import urllib.request\n",
    "import urllib.parse\n",
    "import urllib.error\n",
    "import json\n",
    "\n",
    "def get_iss_location():\n",
    "    \"\"\"Fetch the current location of the ISS from OpenNotify API.\"\"\"\n",
    "    url = \"http://api.open-notify.org/iss-now.json\"\n",
    "    try:\n",
    "        # Open the URL and read the response\n",
    "        with urllib.request.urlopen(url) as response:\n",
    "            data = response.read()  # Read the response bytes\n",
    "            # Decode bytes to string and load JSON\n",
    "            return json.loads(data.decode('utf-8'))  # Parse JSON response\n",
    "    except urllib.error.URLError as e:\n",
    "        print(f\"Error fetching data: {e.reason}\")\n",
    "        return None\n",
    "\n",
    "def display_iss_location(iss_data):\n",
    "    \"\"\"Display the ISS location as longitude and latitude.\"\"\"\n",
    "    if iss_data:\n",
    "        print(\"Raw data from API:\", iss_data)  # Print the raw data for debugging\n",
    "        if 'iss_position' in iss_data:\n",
    "            latitude = iss_data['iss_position']['latitude']\n",
    "            longitude = iss_data['iss_position']['longitude']\n",
    "            \n",
    "            print(\"Current ISS Location:\")\n",
    "            print(f\"Latitude: {latitude}\")\n",
    "            print(f\"Longitude: {longitude}\")\n",
    "        else:\n",
    "            print(\"No 'iss_position' key found in the data.\")\n",
    "    else:\n",
    "        print(\"No ISS data available.\")\n",
    "\n",
    "def main():\n",
    "    iss_data = get_iss_location()\n",
    "    display_iss_location(iss_data)\n",
    "\n",
    "if __name__ == \"__main__\":\n",
    "    main()"
   ]
  }
 ],
 "metadata": {
  "kernelspec": {
   "display_name": "UFRC Python-3.10",
   "language": "python",
   "name": "python3-3.10-ufrc"
  },
  "language_info": {
   "codemirror_mode": {
    "name": "ipython",
    "version": 3
   },
   "file_extension": ".py",
   "mimetype": "text/x-python",
   "name": "python",
   "nbconvert_exporter": "python",
   "pygments_lexer": "ipython3",
   "version": "3.10.8"
  }
 },
 "nbformat": 4,
 "nbformat_minor": 5
}
